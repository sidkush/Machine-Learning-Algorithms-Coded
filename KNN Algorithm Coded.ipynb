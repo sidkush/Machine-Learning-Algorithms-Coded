{
 "cells": [
  {
   "cell_type": "code",
   "execution_count": 1,
   "metadata": {},
   "outputs": [],
   "source": [
    "from pyforest import *"
   ]
  },
  {
   "cell_type": "code",
   "execution_count": 2,
   "metadata": {},
   "outputs": [],
   "source": [
    "df = pd.DataFrame()\n",
    "df['Name'] = ['Karuna','Bhuvna','Gaurav','Parul','Dinesh','Jani','Bobby','Parimal','Govind','Susant','Gouri','Bharat','Ravi','Pradeep','Josh']\n",
    "df['Aptitude'] = [2,2,7,7,8,4,5,3,8,6,6,6,6,9,5]\n",
    "df['Communication'] = [5,6,6,2.5,6,7,3,5.5,3,5.5,4,7,2,7,4.5]\n",
    "df['Class'] = ['Speaker','Speaker','Leader','Intel','Leader','Speaker','Intel','Speaker','Intel','Leader','Intel','Leader','Intel','Leader',np.nan]"
   ]
  },
  {
   "cell_type": "markdown",
   "metadata": {},
   "source": [
    "# Created a dataset"
   ]
  },
  {
   "cell_type": "code",
   "execution_count": 3,
   "metadata": {},
   "outputs": [
    {
     "data": {
      "text/html": [
       "<div>\n",
       "<style scoped>\n",
       "    .dataframe tbody tr th:only-of-type {\n",
       "        vertical-align: middle;\n",
       "    }\n",
       "\n",
       "    .dataframe tbody tr th {\n",
       "        vertical-align: top;\n",
       "    }\n",
       "\n",
       "    .dataframe thead th {\n",
       "        text-align: right;\n",
       "    }\n",
       "</style>\n",
       "<table border=\"1\" class=\"dataframe\">\n",
       "  <thead>\n",
       "    <tr style=\"text-align: right;\">\n",
       "      <th></th>\n",
       "      <th>Name</th>\n",
       "      <th>Aptitude</th>\n",
       "      <th>Communication</th>\n",
       "      <th>Class</th>\n",
       "    </tr>\n",
       "  </thead>\n",
       "  <tbody>\n",
       "    <tr>\n",
       "      <th>0</th>\n",
       "      <td>Karuna</td>\n",
       "      <td>2</td>\n",
       "      <td>5.0</td>\n",
       "      <td>Speaker</td>\n",
       "    </tr>\n",
       "    <tr>\n",
       "      <th>1</th>\n",
       "      <td>Bhuvna</td>\n",
       "      <td>2</td>\n",
       "      <td>6.0</td>\n",
       "      <td>Speaker</td>\n",
       "    </tr>\n",
       "    <tr>\n",
       "      <th>2</th>\n",
       "      <td>Gaurav</td>\n",
       "      <td>7</td>\n",
       "      <td>6.0</td>\n",
       "      <td>Leader</td>\n",
       "    </tr>\n",
       "    <tr>\n",
       "      <th>3</th>\n",
       "      <td>Parul</td>\n",
       "      <td>7</td>\n",
       "      <td>2.5</td>\n",
       "      <td>Intel</td>\n",
       "    </tr>\n",
       "    <tr>\n",
       "      <th>4</th>\n",
       "      <td>Dinesh</td>\n",
       "      <td>8</td>\n",
       "      <td>6.0</td>\n",
       "      <td>Leader</td>\n",
       "    </tr>\n",
       "    <tr>\n",
       "      <th>5</th>\n",
       "      <td>Jani</td>\n",
       "      <td>4</td>\n",
       "      <td>7.0</td>\n",
       "      <td>Speaker</td>\n",
       "    </tr>\n",
       "    <tr>\n",
       "      <th>6</th>\n",
       "      <td>Bobby</td>\n",
       "      <td>5</td>\n",
       "      <td>3.0</td>\n",
       "      <td>Intel</td>\n",
       "    </tr>\n",
       "    <tr>\n",
       "      <th>7</th>\n",
       "      <td>Parimal</td>\n",
       "      <td>3</td>\n",
       "      <td>5.5</td>\n",
       "      <td>Speaker</td>\n",
       "    </tr>\n",
       "    <tr>\n",
       "      <th>8</th>\n",
       "      <td>Govind</td>\n",
       "      <td>8</td>\n",
       "      <td>3.0</td>\n",
       "      <td>Intel</td>\n",
       "    </tr>\n",
       "    <tr>\n",
       "      <th>9</th>\n",
       "      <td>Susant</td>\n",
       "      <td>6</td>\n",
       "      <td>5.5</td>\n",
       "      <td>Leader</td>\n",
       "    </tr>\n",
       "    <tr>\n",
       "      <th>10</th>\n",
       "      <td>Gouri</td>\n",
       "      <td>6</td>\n",
       "      <td>4.0</td>\n",
       "      <td>Intel</td>\n",
       "    </tr>\n",
       "    <tr>\n",
       "      <th>11</th>\n",
       "      <td>Bharat</td>\n",
       "      <td>6</td>\n",
       "      <td>7.0</td>\n",
       "      <td>Leader</td>\n",
       "    </tr>\n",
       "    <tr>\n",
       "      <th>12</th>\n",
       "      <td>Ravi</td>\n",
       "      <td>6</td>\n",
       "      <td>2.0</td>\n",
       "      <td>Intel</td>\n",
       "    </tr>\n",
       "    <tr>\n",
       "      <th>13</th>\n",
       "      <td>Pradeep</td>\n",
       "      <td>9</td>\n",
       "      <td>7.0</td>\n",
       "      <td>Leader</td>\n",
       "    </tr>\n",
       "    <tr>\n",
       "      <th>14</th>\n",
       "      <td>Josh</td>\n",
       "      <td>5</td>\n",
       "      <td>4.5</td>\n",
       "      <td>NaN</td>\n",
       "    </tr>\n",
       "  </tbody>\n",
       "</table>\n",
       "</div>"
      ],
      "text/plain": [
       "       Name  Aptitude  Communication    Class\n",
       "0    Karuna         2            5.0  Speaker\n",
       "1    Bhuvna         2            6.0  Speaker\n",
       "2    Gaurav         7            6.0   Leader\n",
       "3     Parul         7            2.5    Intel\n",
       "4    Dinesh         8            6.0   Leader\n",
       "5      Jani         4            7.0  Speaker\n",
       "6     Bobby         5            3.0    Intel\n",
       "7   Parimal         3            5.5  Speaker\n",
       "8    Govind         8            3.0    Intel\n",
       "9    Susant         6            5.5   Leader\n",
       "10    Gouri         6            4.0    Intel\n",
       "11   Bharat         6            7.0   Leader\n",
       "12     Ravi         6            2.0    Intel\n",
       "13  Pradeep         9            7.0   Leader\n",
       "14     Josh         5            4.5      NaN"
      ]
     },
     "execution_count": 3,
     "metadata": {},
     "output_type": "execute_result"
    }
   ],
   "source": [
    "#Let's say good at Aptitude, poor at Communication -> Intel\n",
    "#          good at Communication, poor at Aptitude -> Speaker\n",
    "#          good at both Communication & Aptitude -> Leader\n",
    "df"
   ]
  },
  {
   "cell_type": "markdown",
   "metadata": {},
   "source": [
    "# Last line is the test sample"
   ]
  },
  {
   "cell_type": "markdown",
   "metadata": {},
   "source": [
    "# MAIN KNN ALGORITHM"
   ]
  },
  {
   "cell_type": "code",
   "execution_count": 36,
   "metadata": {},
   "outputs": [],
   "source": [
    "def knn(df,k):\n",
    "    dist = []\n",
    "    for i in range(df.shape[0]):\n",
    "        sse = 0\n",
    "        for j in range(1,3):\n",
    "            sse += pow((df.iloc[-1][j]-df.iloc[i][j]),2)  # df.iloc[-1][j] -> test data\n",
    "        ED = np.sqrt(sse)\n",
    "        dist.append(ED)\n",
    "    df['Distance'] = dist\n",
    "    df['Distance'] = round(df['Distance'],2)\n",
    "    if k>0:\n",
    "        if k==1:\n",
    "            temp = list(df['Distance'].nsmallest(2))[1]\n",
    "            target = df[df['Distance']==temp]['Class']\n",
    "            return(target)\n",
    "        else:\n",
    "            temp = list(df['Distance'].nsmallest(k+1))    # lst[0] -> Intel # lst[1] -> Speaker # lst[2] -> Leader\n",
    "            lst = [0,0,0]                                 # Initial counter set to 0\n",
    "            for i in range(k):\n",
    "                target = str(df[df['Distance'] == temp[i]]['Class'])\n",
    "                if target == str(df['Class'].unique()[2]):\n",
    "                    lst[0] += 1\n",
    "                elif target == str(df['Class'].unique()[0]):\n",
    "                    lst[1] += 1\n",
    "                elif target == str(df['Class'].unique()[1]):\n",
    "                    lst[2] += 1\n",
    "            if lst.index(max(lst)) == 0:\n",
    "                return(df['Class'].unique()[2])\n",
    "            elif lst.index(max(lst)) == 1:\n",
    "                return(df['Class'].unique()[0])\n",
    "            elif lst.index(max(lst)) == 1:\n",
    "                return(df['Class'].unique()[1])"
   ]
  },
  {
   "cell_type": "markdown",
   "metadata": {},
   "source": [
    "# Running KNN function"
   ]
  },
  {
   "cell_type": "code",
   "execution_count": 44,
   "metadata": {},
   "outputs": [
    {
     "data": {
      "text/plain": [
       "'Intel'"
      ]
     },
     "execution_count": 44,
     "metadata": {},
     "output_type": "execute_result"
    }
   ],
   "source": [
    "zz = knn(df,10)\n",
    "zz"
   ]
  }
 ],
 "metadata": {
  "kernelspec": {
   "display_name": "Python 3",
   "language": "python",
   "name": "python3"
  },
  "language_info": {
   "codemirror_mode": {
    "name": "ipython",
    "version": 3
   },
   "file_extension": ".py",
   "mimetype": "text/x-python",
   "name": "python",
   "nbconvert_exporter": "python",
   "pygments_lexer": "ipython3",
   "version": "3.7.3"
  }
 },
 "nbformat": 4,
 "nbformat_minor": 2
}
